{
 "cells": [
  {
   "cell_type": "markdown",
   "id": "eb3d8f38",
   "metadata": {},
   "source": [
    "# Importing Libraries :"
   ]
  },
  {
   "cell_type": "code",
   "execution_count": 1,
   "id": "b1ef28db",
   "metadata": {},
   "outputs": [],
   "source": [
    "import pandas as pd\n",
    "import numpy as np\n",
    "\n",
    "import seaborn as sns\n",
    "import matplotlib.pyplot as plt \n",
    "\n",
    "from scipy.stats import zscore\n",
    "from scipy.stats import boxcox\n",
    "\n",
    "# Splitting and model training\n",
    "from sklearn.linear_model import LinearRegression\n",
    "from sklearn.neighbors import KNeighborsRegressor\n",
    "from sklearn.model_selection import train_test_split\n",
    "\n",
    "# Evaluation\n",
    "from sklearn.metrics import mean_absolute_error,mean_squared_error,r2_score\n",
    "\n",
    "from sklearn.preprocessing import StandardScaler, MinMaxScaler"
   ]
  },
  {
   "cell_type": "markdown",
   "id": "7bfea494",
   "metadata": {},
   "source": [
    "# problem statement :"
   ]
  },
  {
   "cell_type": "code",
   "execution_count": null,
   "id": "648b74c5",
   "metadata": {},
   "outputs": [],
   "source": [
    "# The goal of this project was to predict health insurance premiums based on various factors like age, gender, health insurance coverage, BMI, and more."
   ]
  },
  {
   "cell_type": "markdown",
   "id": "93574934",
   "metadata": {},
   "source": [
    "# Data Gathering : "
   ]
  },
  {
   "cell_type": "code",
   "execution_count": 2,
   "id": "41617405",
   "metadata": {},
   "outputs": [
    {
     "data": {
      "text/html": [
       "<div>\n",
       "<style scoped>\n",
       "    .dataframe tbody tr th:only-of-type {\n",
       "        vertical-align: middle;\n",
       "    }\n",
       "\n",
       "    .dataframe tbody tr th {\n",
       "        vertical-align: top;\n",
       "    }\n",
       "\n",
       "    .dataframe thead th {\n",
       "        text-align: right;\n",
       "    }\n",
       "</style>\n",
       "<table border=\"1\" class=\"dataframe\">\n",
       "  <thead>\n",
       "    <tr style=\"text-align: right;\">\n",
       "      <th></th>\n",
       "      <th>Sr.no</th>\n",
       "      <th>Name</th>\n",
       "      <th>Age(yrs)</th>\n",
       "      <th>Gender</th>\n",
       "      <th>Height (cm)</th>\n",
       "      <th>Weight(kg)</th>\n",
       "      <th>Health Insurance cover</th>\n",
       "      <th>Premium</th>\n",
       "    </tr>\n",
       "  </thead>\n",
       "  <tbody>\n",
       "    <tr>\n",
       "      <th>0</th>\n",
       "      <td>1</td>\n",
       "      <td>krushna</td>\n",
       "      <td>0.250000</td>\n",
       "      <td>male</td>\n",
       "      <td>61.4</td>\n",
       "      <td>6.4</td>\n",
       "      <td>500000</td>\n",
       "      <td>7015</td>\n",
       "    </tr>\n",
       "    <tr>\n",
       "      <th>1</th>\n",
       "      <td>2</td>\n",
       "      <td>pavan</td>\n",
       "      <td>0.333333</td>\n",
       "      <td>male</td>\n",
       "      <td>63.9</td>\n",
       "      <td>7.0</td>\n",
       "      <td>500000</td>\n",
       "      <td>7015</td>\n",
       "    </tr>\n",
       "    <tr>\n",
       "      <th>2</th>\n",
       "      <td>3</td>\n",
       "      <td>ketan</td>\n",
       "      <td>0.416667</td>\n",
       "      <td>male</td>\n",
       "      <td>65.9</td>\n",
       "      <td>7.5</td>\n",
       "      <td>500000</td>\n",
       "      <td>7015</td>\n",
       "    </tr>\n",
       "    <tr>\n",
       "      <th>3</th>\n",
       "      <td>4</td>\n",
       "      <td>akash</td>\n",
       "      <td>0.500000</td>\n",
       "      <td>male</td>\n",
       "      <td>67.6</td>\n",
       "      <td>7.9</td>\n",
       "      <td>500000</td>\n",
       "      <td>7015</td>\n",
       "    </tr>\n",
       "    <tr>\n",
       "      <th>4</th>\n",
       "      <td>5</td>\n",
       "      <td>syam</td>\n",
       "      <td>0.583333</td>\n",
       "      <td>male</td>\n",
       "      <td>69.2</td>\n",
       "      <td>8.3</td>\n",
       "      <td>500000</td>\n",
       "      <td>7015</td>\n",
       "    </tr>\n",
       "    <tr>\n",
       "      <th>...</th>\n",
       "      <td>...</td>\n",
       "      <td>...</td>\n",
       "      <td>...</td>\n",
       "      <td>...</td>\n",
       "      <td>...</td>\n",
       "      <td>...</td>\n",
       "      <td>...</td>\n",
       "      <td>...</td>\n",
       "    </tr>\n",
       "    <tr>\n",
       "      <th>1671</th>\n",
       "      <td>1672</td>\n",
       "      <td>kiran</td>\n",
       "      <td>81.000000</td>\n",
       "      <td>female</td>\n",
       "      <td>155.0</td>\n",
       "      <td>NaN</td>\n",
       "      <td>10000000</td>\n",
       "      <td>111340</td>\n",
       "    </tr>\n",
       "    <tr>\n",
       "      <th>1672</th>\n",
       "      <td>1673</td>\n",
       "      <td>mira</td>\n",
       "      <td>82.000000</td>\n",
       "      <td>female</td>\n",
       "      <td>155.0</td>\n",
       "      <td>65.0</td>\n",
       "      <td>10000000</td>\n",
       "      <td>111340</td>\n",
       "    </tr>\n",
       "    <tr>\n",
       "      <th>1673</th>\n",
       "      <td>1674</td>\n",
       "      <td>radha</td>\n",
       "      <td>83.000000</td>\n",
       "      <td>female</td>\n",
       "      <td>155.0</td>\n",
       "      <td>65.0</td>\n",
       "      <td>10000000</td>\n",
       "      <td>111340</td>\n",
       "    </tr>\n",
       "    <tr>\n",
       "      <th>1674</th>\n",
       "      <td>1675</td>\n",
       "      <td>lakshmi</td>\n",
       "      <td>84.000000</td>\n",
       "      <td>female</td>\n",
       "      <td>155.0</td>\n",
       "      <td>65.0</td>\n",
       "      <td>10000000</td>\n",
       "      <td>111340</td>\n",
       "    </tr>\n",
       "    <tr>\n",
       "      <th>1675</th>\n",
       "      <td>1676</td>\n",
       "      <td>damini</td>\n",
       "      <td>85.000000</td>\n",
       "      <td>female</td>\n",
       "      <td>155.0</td>\n",
       "      <td>65.0</td>\n",
       "      <td>10000000</td>\n",
       "      <td>111340</td>\n",
       "    </tr>\n",
       "  </tbody>\n",
       "</table>\n",
       "<p>1676 rows × 8 columns</p>\n",
       "</div>"
      ],
      "text/plain": [
       "      Sr.no     Name   Age(yrs)  Gender  Height (cm)  Weight(kg)  \\\n",
       "0         1  krushna   0.250000    male         61.4         6.4   \n",
       "1         2    pavan   0.333333    male         63.9         7.0   \n",
       "2         3    ketan   0.416667    male         65.9         7.5   \n",
       "3         4    akash   0.500000    male         67.6         7.9   \n",
       "4         5     syam   0.583333    male         69.2         8.3   \n",
       "...     ...      ...        ...     ...          ...         ...   \n",
       "1671   1672    kiran  81.000000  female        155.0         NaN   \n",
       "1672   1673     mira  82.000000  female        155.0        65.0   \n",
       "1673   1674    radha  83.000000  female        155.0        65.0   \n",
       "1674   1675  lakshmi  84.000000  female        155.0        65.0   \n",
       "1675   1676   damini  85.000000  female        155.0        65.0   \n",
       "\n",
       "      Health Insurance cover  Premium  \n",
       "0                     500000     7015  \n",
       "1                     500000     7015  \n",
       "2                     500000     7015  \n",
       "3                     500000     7015  \n",
       "4                     500000     7015  \n",
       "...                      ...      ...  \n",
       "1671                10000000   111340  \n",
       "1672                10000000   111340  \n",
       "1673                10000000   111340  \n",
       "1674                10000000   111340  \n",
       "1675                10000000   111340  \n",
       "\n",
       "[1676 rows x 8 columns]"
      ]
     },
     "execution_count": 2,
     "metadata": {},
     "output_type": "execute_result"
    }
   ],
   "source": [
    "df = pd.read_excel('height_weight_data .Xlsx')\n",
    "df"
   ]
  },
  {
   "cell_type": "code",
   "execution_count": 17,
   "id": "4aa80710",
   "metadata": {},
   "outputs": [
    {
     "data": {
      "text/plain": [
       "(1676, 8)"
      ]
     },
     "execution_count": 17,
     "metadata": {},
     "output_type": "execute_result"
    }
   ],
   "source": [
    "df.shape"
   ]
  },
  {
   "cell_type": "code",
   "execution_count": 18,
   "id": "bad94bf6",
   "metadata": {},
   "outputs": [
    {
     "name": "stdout",
     "output_type": "stream",
     "text": [
      "<class 'pandas.core.frame.DataFrame'>\n",
      "RangeIndex: 1676 entries, 0 to 1675\n",
      "Data columns (total 8 columns):\n",
      " #   Column                  Non-Null Count  Dtype  \n",
      "---  ------                  --------------  -----  \n",
      " 0   Sr.no                   1676 non-null   int64  \n",
      " 1   Name                    1676 non-null   object \n",
      " 2   Age(yrs)                1676 non-null   float64\n",
      " 3   Gender                  1676 non-null   object \n",
      " 4   Height (cm)             1669 non-null   float64\n",
      " 5   Weight(kg)              1670 non-null   float64\n",
      " 6   Health Insurance cover  1676 non-null   int64  \n",
      " 7   Premium                 1676 non-null   int64  \n",
      "dtypes: float64(3), int64(3), object(2)\n",
      "memory usage: 104.9+ KB\n"
     ]
    }
   ],
   "source": [
    "df.info()"
   ]
  },
  {
   "cell_type": "markdown",
   "id": "4249842a",
   "metadata": {},
   "source": [
    "# To find a missing value : "
   ]
  },
  {
   "cell_type": "code",
   "execution_count": 19,
   "id": "97703910",
   "metadata": {},
   "outputs": [
    {
     "data": {
      "text/plain": [
       "Sr.no                     0\n",
       "Name                      0\n",
       "Age(yrs)                  0\n",
       "Gender                    0\n",
       "Height (cm)               7\n",
       "Weight(kg)                6\n",
       "Health Insurance cover    0\n",
       "Premium                   0\n",
       "dtype: int64"
      ]
     },
     "execution_count": 19,
     "metadata": {},
     "output_type": "execute_result"
    }
   ],
   "source": [
    "df.isnull().sum()"
   ]
  },
  {
   "cell_type": "code",
   "execution_count": 20,
   "id": "bf3e5418",
   "metadata": {},
   "outputs": [
    {
     "data": {
      "text/html": [
       "<div>\n",
       "<style scoped>\n",
       "    .dataframe tbody tr th:only-of-type {\n",
       "        vertical-align: middle;\n",
       "    }\n",
       "\n",
       "    .dataframe tbody tr th {\n",
       "        vertical-align: top;\n",
       "    }\n",
       "\n",
       "    .dataframe thead th {\n",
       "        text-align: right;\n",
       "    }\n",
       "</style>\n",
       "<table border=\"1\" class=\"dataframe\">\n",
       "  <thead>\n",
       "    <tr style=\"text-align: right;\">\n",
       "      <th></th>\n",
       "      <th>Sr.no</th>\n",
       "      <th>Name</th>\n",
       "      <th>Age(yrs)</th>\n",
       "      <th>Gender</th>\n",
       "      <th>Height (cm)</th>\n",
       "      <th>Weight(kg)</th>\n",
       "      <th>Health Insurance cover</th>\n",
       "      <th>Premium</th>\n",
       "    </tr>\n",
       "  </thead>\n",
       "  <tbody>\n",
       "    <tr>\n",
       "      <th>0</th>\n",
       "      <td>False</td>\n",
       "      <td>False</td>\n",
       "      <td>False</td>\n",
       "      <td>False</td>\n",
       "      <td>False</td>\n",
       "      <td>False</td>\n",
       "      <td>False</td>\n",
       "      <td>False</td>\n",
       "    </tr>\n",
       "    <tr>\n",
       "      <th>1</th>\n",
       "      <td>False</td>\n",
       "      <td>False</td>\n",
       "      <td>False</td>\n",
       "      <td>False</td>\n",
       "      <td>False</td>\n",
       "      <td>False</td>\n",
       "      <td>False</td>\n",
       "      <td>False</td>\n",
       "    </tr>\n",
       "    <tr>\n",
       "      <th>2</th>\n",
       "      <td>False</td>\n",
       "      <td>False</td>\n",
       "      <td>False</td>\n",
       "      <td>False</td>\n",
       "      <td>False</td>\n",
       "      <td>False</td>\n",
       "      <td>False</td>\n",
       "      <td>False</td>\n",
       "    </tr>\n",
       "    <tr>\n",
       "      <th>3</th>\n",
       "      <td>False</td>\n",
       "      <td>False</td>\n",
       "      <td>False</td>\n",
       "      <td>False</td>\n",
       "      <td>False</td>\n",
       "      <td>False</td>\n",
       "      <td>False</td>\n",
       "      <td>False</td>\n",
       "    </tr>\n",
       "    <tr>\n",
       "      <th>4</th>\n",
       "      <td>False</td>\n",
       "      <td>False</td>\n",
       "      <td>False</td>\n",
       "      <td>False</td>\n",
       "      <td>False</td>\n",
       "      <td>False</td>\n",
       "      <td>False</td>\n",
       "      <td>False</td>\n",
       "    </tr>\n",
       "    <tr>\n",
       "      <th>...</th>\n",
       "      <td>...</td>\n",
       "      <td>...</td>\n",
       "      <td>...</td>\n",
       "      <td>...</td>\n",
       "      <td>...</td>\n",
       "      <td>...</td>\n",
       "      <td>...</td>\n",
       "      <td>...</td>\n",
       "    </tr>\n",
       "    <tr>\n",
       "      <th>1671</th>\n",
       "      <td>False</td>\n",
       "      <td>False</td>\n",
       "      <td>False</td>\n",
       "      <td>False</td>\n",
       "      <td>False</td>\n",
       "      <td>True</td>\n",
       "      <td>False</td>\n",
       "      <td>False</td>\n",
       "    </tr>\n",
       "    <tr>\n",
       "      <th>1672</th>\n",
       "      <td>False</td>\n",
       "      <td>False</td>\n",
       "      <td>False</td>\n",
       "      <td>False</td>\n",
       "      <td>False</td>\n",
       "      <td>False</td>\n",
       "      <td>False</td>\n",
       "      <td>False</td>\n",
       "    </tr>\n",
       "    <tr>\n",
       "      <th>1673</th>\n",
       "      <td>False</td>\n",
       "      <td>False</td>\n",
       "      <td>False</td>\n",
       "      <td>False</td>\n",
       "      <td>False</td>\n",
       "      <td>False</td>\n",
       "      <td>False</td>\n",
       "      <td>False</td>\n",
       "    </tr>\n",
       "    <tr>\n",
       "      <th>1674</th>\n",
       "      <td>False</td>\n",
       "      <td>False</td>\n",
       "      <td>False</td>\n",
       "      <td>False</td>\n",
       "      <td>False</td>\n",
       "      <td>False</td>\n",
       "      <td>False</td>\n",
       "      <td>False</td>\n",
       "    </tr>\n",
       "    <tr>\n",
       "      <th>1675</th>\n",
       "      <td>False</td>\n",
       "      <td>False</td>\n",
       "      <td>False</td>\n",
       "      <td>False</td>\n",
       "      <td>False</td>\n",
       "      <td>False</td>\n",
       "      <td>False</td>\n",
       "      <td>False</td>\n",
       "    </tr>\n",
       "  </tbody>\n",
       "</table>\n",
       "<p>1676 rows × 8 columns</p>\n",
       "</div>"
      ],
      "text/plain": [
       "      Sr.no   Name  Age(yrs)  Gender  Height (cm)  Weight(kg)  \\\n",
       "0     False  False     False   False        False       False   \n",
       "1     False  False     False   False        False       False   \n",
       "2     False  False     False   False        False       False   \n",
       "3     False  False     False   False        False       False   \n",
       "4     False  False     False   False        False       False   \n",
       "...     ...    ...       ...     ...          ...         ...   \n",
       "1671  False  False     False   False        False        True   \n",
       "1672  False  False     False   False        False       False   \n",
       "1673  False  False     False   False        False       False   \n",
       "1674  False  False     False   False        False       False   \n",
       "1675  False  False     False   False        False       False   \n",
       "\n",
       "      Health Insurance cover  Premium  \n",
       "0                      False    False  \n",
       "1                      False    False  \n",
       "2                      False    False  \n",
       "3                      False    False  \n",
       "4                      False    False  \n",
       "...                      ...      ...  \n",
       "1671                   False    False  \n",
       "1672                   False    False  \n",
       "1673                   False    False  \n",
       "1674                   False    False  \n",
       "1675                   False    False  \n",
       "\n",
       "[1676 rows x 8 columns]"
      ]
     },
     "execution_count": 20,
     "metadata": {},
     "output_type": "execute_result"
    }
   ],
   "source": [
    "df.isnull() # False : Value present , True : NaN value present "
   ]
  },
  {
   "cell_type": "code",
   "execution_count": null,
   "id": "869d1fca",
   "metadata": {},
   "outputs": [],
   "source": []
  },
  {
   "cell_type": "markdown",
   "id": "431071eb",
   "metadata": {},
   "source": [
    "## EDA :"
   ]
  },
  {
   "cell_type": "code",
   "execution_count": null,
   "id": "0e6786e4",
   "metadata": {},
   "outputs": [],
   "source": []
  },
  {
   "cell_type": "markdown",
   "id": "273eb724",
   "metadata": {},
   "source": [
    "## 1. Sr.no"
   ]
  },
  {
   "cell_type": "code",
   "execution_count": 21,
   "id": "75d88f66",
   "metadata": {
    "scrolled": true
   },
   "outputs": [
    {
     "data": {
      "text/plain": [
       "1676"
      ]
     },
     "execution_count": 21,
     "metadata": {},
     "output_type": "execute_result"
    }
   ],
   "source": [
    "len(df['Sr.no'].unique())"
   ]
  },
  {
   "cell_type": "code",
   "execution_count": 22,
   "id": "d4bc4367",
   "metadata": {},
   "outputs": [
    {
     "data": {
      "text/plain": [
       "array([   1,    2,    3, ..., 1674, 1675, 1676], dtype=int64)"
      ]
     },
     "execution_count": 22,
     "metadata": {},
     "output_type": "execute_result"
    }
   ],
   "source": [
    "df['Sr.no'].unique()"
   ]
  },
  {
   "cell_type": "code",
   "execution_count": 23,
   "id": "18cbe31a",
   "metadata": {},
   "outputs": [
    {
     "data": {
      "text/plain": [
       "1676"
      ]
     },
     "execution_count": 23,
     "metadata": {},
     "output_type": "execute_result"
    }
   ],
   "source": [
    "df['Sr.no'].nunique()"
   ]
  },
  {
   "cell_type": "code",
   "execution_count": null,
   "id": "8b9a3add",
   "metadata": {},
   "outputs": [],
   "source": [
    ">> We can drop this feature as it contains all unique values"
   ]
  },
  {
   "cell_type": "markdown",
   "id": "6719c80e",
   "metadata": {},
   "source": [
    "## 2. Name :"
   ]
  },
  {
   "cell_type": "code",
   "execution_count": null,
   "id": "48e81696",
   "metadata": {},
   "outputs": [],
   "source": [
    ">> We can  drop this feature as it contains all unique values"
   ]
  },
  {
   "cell_type": "code",
   "execution_count": null,
   "id": "d9540ff9",
   "metadata": {},
   "outputs": [],
   "source": []
  },
  {
   "cell_type": "markdown",
   "id": "c4f99470",
   "metadata": {},
   "source": [
    "## 3. Age(yrs) :"
   ]
  },
  {
   "cell_type": "code",
   "execution_count": 24,
   "id": "c6221ece",
   "metadata": {},
   "outputs": [
    {
     "data": {
      "text/plain": [
       "0        0.250000\n",
       "1        0.333333\n",
       "2        0.416667\n",
       "3        0.500000\n",
       "4        0.583333\n",
       "          ...    \n",
       "1671    81.000000\n",
       "1672    82.000000\n",
       "1673    83.000000\n",
       "1674    84.000000\n",
       "1675    85.000000\n",
       "Name: Age(yrs), Length: 1676, dtype: float64"
      ]
     },
     "execution_count": 24,
     "metadata": {},
     "output_type": "execute_result"
    }
   ],
   "source": [
    "df['Age(yrs)']"
   ]
  },
  {
   "cell_type": "code",
   "execution_count": 25,
   "id": "f46e054a",
   "metadata": {},
   "outputs": [
    {
     "data": {
      "text/plain": [
       "0"
      ]
     },
     "execution_count": 25,
     "metadata": {},
     "output_type": "execute_result"
    }
   ],
   "source": [
    "df['Age(yrs)'].isnull().sum()"
   ]
  },
  {
   "cell_type": "code",
   "execution_count": null,
   "id": "5dee1bd2",
   "metadata": {},
   "outputs": [],
   "source": [
    ">> This feature does not contain any null values "
   ]
  },
  {
   "cell_type": "code",
   "execution_count": null,
   "id": "c2a23b8d",
   "metadata": {},
   "outputs": [],
   "source": []
  },
  {
   "cell_type": "markdown",
   "id": "3f5ed509",
   "metadata": {},
   "source": [
    "## cheking for normality of data :"
   ]
  },
  {
   "cell_type": "code",
   "execution_count": null,
   "id": "cc4400b5",
   "metadata": {},
   "outputs": [],
   "source": [
    "# Formula : z_score = (x- Xmean)/std.dev"
   ]
  },
  {
   "cell_type": "code",
   "execution_count": null,
   "id": "12c8136c",
   "metadata": {},
   "outputs": [],
   "source": [
    "# The plot helps you visualize the shape of the distribution and whether it resembles a normal distribution."
   ]
  },
  {
   "cell_type": "code",
   "execution_count": 26,
   "id": "f186e6bc",
   "metadata": {
    "scrolled": true
   },
   "outputs": [
    {
     "data": {
      "text/plain": [
       "<AxesSubplot:xlabel='Age(yrs)', ylabel='Density'>"
      ]
     },
     "execution_count": 26,
     "metadata": {},
     "output_type": "execute_result"
    },
    {
     "data": {
      "image/png": "[encoded data removed]",
      "text/plain": [
       "<Figure size 432x288 with 1 Axes>"
      ]
     },
     "metadata": {
      "needs_background": "light"
     },
     "output_type": "display_data"
    }
   ],
   "source": [
    "sns.kdeplot(df['Age(yrs)'])"
   ]
  },
  {
   "cell_type": "code",
   "execution_count": 27,
   "id": "e3a5e60c",
   "metadata": {},
   "outputs": [],
   "source": [
    "def get_outliers(df,column):\n",
    "    mean = column.mean()\n",
    "    std = column.std()\n",
    "    outliers_list = []\n",
    "    threshold = 3\n",
    "    \n",
    "    for x in column.values:\n",
    "        zscore = (x-mean)/std\n",
    "        \n",
    "        if np.abs(zscore) > threshold:\n",
    "            outliers_list.append(x)\n",
    "            \n",
    "    return outliers_list"
   ]
  },
  {
   "cell_type": "code",
   "execution_count": 28,
   "id": "93df8209",
   "metadata": {},
   "outputs": [
    {
     "data": {
      "text/plain": [
       "[]"
      ]
     },
     "execution_count": 28,
     "metadata": {},
     "output_type": "execute_result"
    }
   ],
   "source": [
    "get_outliers(df,df['Age(yrs)'])"
   ]
  },
  {
   "cell_type": "markdown",
   "id": "b8f70561",
   "metadata": {},
   "source": [
    "# checking for outliers"
   ]
  },
  {
   "cell_type": "code",
   "execution_count": 30,
   "id": "0217cc68",
   "metadata": {},
   "outputs": [
    {
     "data": {
      "text/plain": [
       "<AxesSubplot:xlabel='Age(yrs)'>"
      ]
     },
     "execution_count": 30,
     "metadata": {},
     "output_type": "execute_result"
    },
    {
     "data": {
      "image/png": "[encoded data removed]",
      "text/plain": [
       "<Figure size 432x288 with 1 Axes>"
      ]
     },
     "metadata": {
      "needs_background": "light"
     },
     "output_type": "display_data"
    }
   ],
   "source": [
    "sns.boxplot(x = df['Age(yrs)'])"
   ]
  },
  {
   "cell_type": "code",
   "execution_count": null,
   "id": "39a89e30",
   "metadata": {},
   "outputs": [],
   "source": [
    "# There is no outlier present "
   ]
  },
  {
   "cell_type": "markdown",
   "id": "7331701e",
   "metadata": {},
   "source": [
    "## 4. Gender "
   ]
  },
  {
   "cell_type": "code",
   "execution_count": 31,
   "id": "51530b1a",
   "metadata": {},
   "outputs": [
    {
     "data": {
      "text/plain": [
       "array(['male', 'female'], dtype=object)"
      ]
     },
     "execution_count": 31,
     "metadata": {},
     "output_type": "execute_result"
    }
   ],
   "source": [
    "df['Gender'].unique()"
   ]
  },
  {
   "cell_type": "code",
   "execution_count": 32,
   "id": "1622a998",
   "metadata": {},
   "outputs": [
    {
     "data": {
      "text/plain": [
       "2"
      ]
     },
     "execution_count": 32,
     "metadata": {},
     "output_type": "execute_result"
    }
   ],
   "source": [
    "df['Gender'].nunique()"
   ]
  },
  {
   "cell_type": "code",
   "execution_count": null,
   "id": "a0e74ced",
   "metadata": {},
   "outputs": [],
   "source": [
    "# This is categorial feature apply replace"
   ]
  },
  {
   "cell_type": "markdown",
   "id": "7615197c",
   "metadata": {},
   "source": [
    "# 5.Height (cm)"
   ]
  },
  {
   "cell_type": "code",
   "execution_count": 33,
   "id": "0d47943d",
   "metadata": {},
   "outputs": [
    {
     "data": {
      "text/plain": [
       "0        61.4\n",
       "1        63.9\n",
       "2        65.9\n",
       "3        67.6\n",
       "4        69.2\n",
       "        ...  \n",
       "1671    155.0\n",
       "1672    155.0\n",
       "1673    155.0\n",
       "1674    155.0\n",
       "1675    155.0\n",
       "Name: Height (cm), Length: 1676, dtype: float64"
      ]
     },
     "execution_count": 33,
     "metadata": {},
     "output_type": "execute_result"
    }
   ],
   "source": [
    "df['Height (cm)']"
   ]
  },
  {
   "cell_type": "code",
   "execution_count": 34,
   "id": "736ed573",
   "metadata": {},
   "outputs": [
    {
     "data": {
      "text/plain": [
       "7"
      ]
     },
     "execution_count": 34,
     "metadata": {},
     "output_type": "execute_result"
    }
   ],
   "source": [
    "df['Height (cm)'].isnull().sum()"
   ]
  },
  {
   "cell_type": "code",
   "execution_count": null,
   "id": "f2f7de78-09a6-4c33-84fb-6c86225b128a",
   "metadata": {},
   "outputs": [],
   "source": [
    "# This feature contains some missing values which can handled by filling it with mean or median"
   ]
  },
  {
   "cell_type": "code",
   "execution_count": 35,
   "id": "62cd249d",
   "metadata": {},
   "outputs": [
    {
     "data": {
      "text/plain": [
       "161"
      ]
     },
     "execution_count": 35,
     "metadata": {},
     "output_type": "execute_result"
    }
   ],
   "source": [
    "df['Height (cm)'].nunique()"
   ]
  },
  {
   "cell_type": "markdown",
   "id": "77218a5f",
   "metadata": {},
   "source": [
    "# cheking for normality of data :"
   ]
  },
  {
   "cell_type": "code",
   "execution_count": 36,
   "id": "89a550dc",
   "metadata": {},
   "outputs": [
    {
     "data": {
      "text/plain": [
       "<AxesSubplot:xlabel='Height (cm)', ylabel='Density'>"
      ]
     },
     "execution_count": 36,
     "metadata": {},
     "output_type": "execute_result"
    },
    {
     "data": {
      "image/png": "[encoded data removed]",
      "text/plain": [
       "<Figure size 432x288 with 1 Axes>"
      ]
     },
     "metadata": {
      "needs_background": "light"
     },
     "output_type": "display_data"
    }
   ],
   "source": [
    "sns.kdeplot(df['Height (cm)'])"
   ]
  },
  {
   "cell_type": "code",
   "execution_count": 37,
   "id": "a53e57b1",
   "metadata": {},
   "outputs": [
    {
     "data": {
      "text/plain": [
       "[]"
      ]
     },
     "execution_count": 37,
     "metadata": {},
     "output_type": "execute_result"
    }
   ],
   "source": [
    "def get_outliers(df,column):\n",
    "    mean = column.mean()\n",
    "    std = column.std()\n",
    "    threshold = 3\n",
    "    outliers_list = []\n",
    "    \n",
    "    for x in column.values:\n",
    "        zscore = (x-mean)/std\n",
    "        \n",
    "        if np.abs(zscore) > 3:\n",
    "            outliers_list.append(x)\n",
    "    return outliers_list\n",
    "\n",
    "get_outliers(df,df['Height (cm)'])          "
   ]
  },
  {
   "cell_type": "code",
   "execution_count": null,
   "id": "be6b9d49",
   "metadata": {},
   "outputs": [],
   "source": []
  },
  {
   "cell_type": "code",
   "execution_count": 38,
   "id": "2b2d0afb",
   "metadata": {},
   "outputs": [
    {
     "name": "stdout",
     "output_type": "stream",
     "text": [
      "Series([], Name: Height (cm), dtype: float64)\n"
     ]
    },
    {
     "data": {
      "text/plain": [
       "[]"
      ]
     },
     "execution_count": 38,
     "metadata": {},
     "output_type": "execute_result"
    }
   ],
   "source": [
    "def get_outliers(df):\n",
    "    outliers_list = []\n",
    "    z_score = zscore(df['Height (cm)'])\n",
    "    index = np.where(np.abs(z_score) > 3)[0]\n",
    "    print(df['Height (cm)'].iloc[index])\n",
    "    return outliers_list\n",
    "\n",
    "get_outliers(df)"
   ]
  },
  {
   "cell_type": "code",
   "execution_count": null,
   "id": "c4012590",
   "metadata": {},
   "outputs": [],
   "source": []
  },
  {
   "cell_type": "code",
   "execution_count": 39,
   "id": "87fb83c2",
   "metadata": {},
   "outputs": [
    {
     "data": {
      "text/plain": [
       "<AxesSubplot:xlabel='Height (cm)'>"
      ]
     },
     "execution_count": 39,
     "metadata": {},
     "output_type": "execute_result"
    },
    {
     "data": {
      "image/png": "[encoded data removed]",
      "text/plain": [
       "<Figure size 432x288 with 1 Axes>"
      ]
     },
     "metadata": {
      "needs_background": "light"
     },
     "output_type": "display_data"
    }
   ],
   "source": [
    "sns.boxplot(x = df['Height (cm)'])"
   ]
  },
  {
   "cell_type": "code",
   "execution_count": null,
   "id": "2c640c2a",
   "metadata": {},
   "outputs": [],
   "source": [
    "# If skewness is less than -1 the distribution is highly negatively skewed.\n",
    "# If skewness is greater than 1, the distribution is highly positively skewed."
   ]
  },
  {
   "cell_type": "code",
   "execution_count": 40,
   "id": "4b41f3bc",
   "metadata": {},
   "outputs": [
    {
     "data": {
      "text/plain": [
       "-1.7123886226781593"
      ]
     },
     "execution_count": 40,
     "metadata": {},
     "output_type": "execute_result"
    }
   ],
   "source": [
    "df['Height (cm)'].skew() "
   ]
  },
  {
   "cell_type": "code",
   "execution_count": null,
   "id": "5cae3a1e",
   "metadata": {},
   "outputs": [],
   "source": []
  },
  {
   "cell_type": "markdown",
   "id": "72d86ad4",
   "metadata": {},
   "source": [
    "# Highly Negatively Skewed"
   ]
  },
  {
   "cell_type": "code",
   "execution_count": 41,
   "id": "19c9162c",
   "metadata": {},
   "outputs": [
    {
     "data": {
      "text/plain": [
       "(array([1.66575983e+14, 2.33590711e+14, 3.03285292e+14, ...,\n",
       "        4.25397282e+17, 4.25397282e+17, 4.25397282e+17]),\n",
       " 8.472135811722177)"
      ]
     },
     "execution_count": 41,
     "metadata": {},
     "output_type": "execute_result"
    }
   ],
   "source": [
    "boxcox(df['Height (cm)'])"
   ]
  },
  {
   "cell_type": "code",
   "execution_count": 42,
   "id": "9d92c4fc",
   "metadata": {},
   "outputs": [
    {
     "data": {
      "text/plain": [
       "<AxesSubplot:>"
      ]
     },
     "execution_count": 42,
     "metadata": {},
     "output_type": "execute_result"
    },
    {
     "data": {
      "image/png": "[encoded data removed]",
      "text/plain": [
       "<Figure size 432x288 with 1 Axes>"
      ]
     },
     "metadata": {
      "needs_background": "light"
     },
     "output_type": "display_data"
    }
   ],
   "source": [
    "sns.boxplot(x = boxcox(df['Height (cm)'])[0])"
   ]
  },
  {
   "cell_type": "code",
   "execution_count": null,
   "id": "180d9e72",
   "metadata": {},
   "outputs": [],
   "source": []
  },
  {
   "cell_type": "markdown",
   "id": "91a49fca",
   "metadata": {},
   "source": [
    "# Health Insurance cover"
   ]
  },
  {
   "cell_type": "code",
   "execution_count": 43,
   "id": "cecabfaf",
   "metadata": {},
   "outputs": [
    {
     "data": {
      "text/plain": [
       "0         500000\n",
       "1         500000\n",
       "2         500000\n",
       "3         500000\n",
       "4         500000\n",
       "          ...   \n",
       "1671    10000000\n",
       "1672    10000000\n",
       "1673    10000000\n",
       "1674    10000000\n",
       "1675    10000000\n",
       "Name: Health Insurance cover, Length: 1676, dtype: int64"
      ]
     },
     "execution_count": 43,
     "metadata": {},
     "output_type": "execute_result"
    }
   ],
   "source": [
    "df['Health Insurance cover']"
   ]
  },
  {
   "cell_type": "code",
   "execution_count": 44,
   "id": "afb97cc7",
   "metadata": {},
   "outputs": [
    {
     "data": {
      "text/plain": [
       "0"
      ]
     },
     "execution_count": 44,
     "metadata": {},
     "output_type": "execute_result"
    }
   ],
   "source": [
    "df['Health Insurance cover'].isnull().sum()"
   ]
  },
  {
   "cell_type": "code",
   "execution_count": null,
   "id": "4fc9e67c",
   "metadata": {},
   "outputs": [],
   "source": []
  },
  {
   "cell_type": "code",
   "execution_count": 45,
   "id": "01a66d8b",
   "metadata": {
    "scrolled": true
   },
   "outputs": [
    {
     "data": {
      "text/plain": [
       "<AxesSubplot:xlabel='Health Insurance cover', ylabel='Density'>"
      ]
     },
     "execution_count": 45,
     "metadata": {},
     "output_type": "execute_result"
    },
    {
     "data": {
      "image/png": "[encoded data removed]",
      "text/plain": [
       "<Figure size 432x288 with 1 Axes>"
      ]
     },
     "metadata": {
      "needs_background": "light"
     },
     "output_type": "display_data"
    }
   ],
   "source": [
    "sns.kdeplot(df['Health Insurance cover'])"
   ]
  },
  {
   "cell_type": "code",
   "execution_count": 46,
   "id": "752adeb1",
   "metadata": {},
   "outputs": [
    {
     "data": {
      "text/plain": [
       "1.009096386727808"
      ]
     },
     "execution_count": 46,
     "metadata": {},
     "output_type": "execute_result"
    }
   ],
   "source": [
    "df['Health Insurance cover'].skew()"
   ]
  },
  {
   "cell_type": "markdown",
   "id": "252d198c",
   "metadata": {},
   "source": [
    "# Highly Positively skewed"
   ]
  },
  {
   "cell_type": "code",
   "execution_count": 47,
   "id": "c145c03c",
   "metadata": {},
   "outputs": [
    {
     "data": {
      "text/plain": [
       "<AxesSubplot:xlabel='Health Insurance cover'>"
      ]
     },
     "execution_count": 47,
     "metadata": {},
     "output_type": "execute_result"
    },
    {
     "data": {
      "image/png": "[encoded data removed]",
      "text/plain": [
       "<Figure size 432x288 with 1 Axes>"
      ]
     },
     "metadata": {
      "needs_background": "light"
     },
     "output_type": "display_data"
    }
   ],
   "source": [
    "sns.boxplot(x = df['Health Insurance cover'])"
   ]
  },
  {
   "cell_type": "markdown",
   "id": "e60f84f1",
   "metadata": {},
   "source": [
    "# Deriving a new feature "
   ]
  },
  {
   "cell_type": "code",
   "execution_count": null,
   "id": "b6583a9e",
   "metadata": {},
   "outputs": [],
   "source": [
    "BMI = weight(kg) / height(m2)"
   ]
  },
  {
   "cell_type": "markdown",
   "id": "a846def0",
   "metadata": {},
   "source": [
    "# 5. Premium "
   ]
  },
  {
   "cell_type": "code",
   "execution_count": 48,
   "id": "f572b5e8",
   "metadata": {},
   "outputs": [
    {
     "data": {
      "text/plain": [
       "0"
      ]
     },
     "execution_count": 48,
     "metadata": {},
     "output_type": "execute_result"
    }
   ],
   "source": [
    "df['Premium'].isnull().sum() "
   ]
  },
  {
   "cell_type": "markdown",
   "id": "0d1b078d",
   "metadata": {},
   "source": [
    "# Feature Engineering "
   ]
  },
  {
   "cell_type": "code",
   "execution_count": 49,
   "id": "f3c50632",
   "metadata": {},
   "outputs": [],
   "source": [
    "df.drop(['Sr.no','Name'], axis = 1,inplace = True)"
   ]
  },
  {
   "cell_type": "code",
   "execution_count": 50,
   "id": "8b1fb1b7",
   "metadata": {},
   "outputs": [
    {
     "data": {
      "text/html": [
       "<div>\n",
       "<style scoped>\n",
       "    .dataframe tbody tr th:only-of-type {\n",
       "        vertical-align: middle;\n",
       "    }\n",
       "\n",
       "    .dataframe tbody tr th {\n",
       "        vertical-align: top;\n",
       "    }\n",
       "\n",
       "    .dataframe thead th {\n",
       "        text-align: right;\n",
       "    }\n",
       "</style>\n",
       "<table border=\"1\" class=\"dataframe\">\n",
       "  <thead>\n",
       "    <tr style=\"text-align: right;\">\n",
       "      <th></th>\n",
       "      <th>Age(yrs)</th>\n",
       "      <th>Gender</th>\n",
       "      <th>Height (cm)</th>\n",
       "      <th>Weight(kg)</th>\n",
       "      <th>Health Insurance cover</th>\n",
       "      <th>Premium</th>\n",
       "    </tr>\n",
       "  </thead>\n",
       "  <tbody>\n",
       "    <tr>\n",
       "      <th>0</th>\n",
       "      <td>0.250000</td>\n",
       "      <td>male</td>\n",
       "      <td>61.4</td>\n",
       "      <td>6.4</td>\n",
       "      <td>500000</td>\n",
       "      <td>7015</td>\n",
       "    </tr>\n",
       "    <tr>\n",
       "      <th>1</th>\n",
       "      <td>0.333333</td>\n",
       "      <td>male</td>\n",
       "      <td>63.9</td>\n",
       "      <td>7.0</td>\n",
       "      <td>500000</td>\n",
       "      <td>7015</td>\n",
       "    </tr>\n",
       "    <tr>\n",
       "      <th>2</th>\n",
       "      <td>0.416667</td>\n",
       "      <td>male</td>\n",
       "      <td>65.9</td>\n",
       "      <td>7.5</td>\n",
       "      <td>500000</td>\n",
       "      <td>7015</td>\n",
       "    </tr>\n",
       "    <tr>\n",
       "      <th>3</th>\n",
       "      <td>0.500000</td>\n",
       "      <td>male</td>\n",
       "      <td>67.6</td>\n",
       "      <td>7.9</td>\n",
       "      <td>500000</td>\n",
       "      <td>7015</td>\n",
       "    </tr>\n",
       "    <tr>\n",
       "      <th>4</th>\n",
       "      <td>0.583333</td>\n",
       "      <td>male</td>\n",
       "      <td>69.2</td>\n",
       "      <td>8.3</td>\n",
       "      <td>500000</td>\n",
       "      <td>7015</td>\n",
       "    </tr>\n",
       "    <tr>\n",
       "      <th>...</th>\n",
       "      <td>...</td>\n",
       "      <td>...</td>\n",
       "      <td>...</td>\n",
       "      <td>...</td>\n",
       "      <td>...</td>\n",
       "      <td>...</td>\n",
       "    </tr>\n",
       "    <tr>\n",
       "      <th>1671</th>\n",
       "      <td>81.000000</td>\n",
       "      <td>female</td>\n",
       "      <td>155.0</td>\n",
       "      <td>NaN</td>\n",
       "      <td>10000000</td>\n",
       "      <td>111340</td>\n",
       "    </tr>\n",
       "    <tr>\n",
       "      <th>1672</th>\n",
       "      <td>82.000000</td>\n",
       "      <td>female</td>\n",
       "      <td>155.0</td>\n",
       "      <td>65.0</td>\n",
       "      <td>10000000</td>\n",
       "      <td>111340</td>\n",
       "    </tr>\n",
       "    <tr>\n",
       "      <th>1673</th>\n",
       "      <td>83.000000</td>\n",
       "      <td>female</td>\n",
       "      <td>155.0</td>\n",
       "      <td>65.0</td>\n",
       "      <td>10000000</td>\n",
       "      <td>111340</td>\n",
       "    </tr>\n",
       "    <tr>\n",
       "      <th>1674</th>\n",
       "      <td>84.000000</td>\n",
       "      <td>female</td>\n",
       "      <td>155.0</td>\n",
       "      <td>65.0</td>\n",
       "      <td>10000000</td>\n",
       "      <td>111340</td>\n",
       "    </tr>\n",
       "    <tr>\n",
       "      <th>1675</th>\n",
       "      <td>85.000000</td>\n",
       "      <td>female</td>\n",
       "      <td>155.0</td>\n",
       "      <td>65.0</td>\n",
       "      <td>10000000</td>\n",
       "      <td>111340</td>\n",
       "    </tr>\n",
       "  </tbody>\n",
       "</table>\n",
       "<p>1676 rows × 6 columns</p>\n",
       "</div>"
      ],
      "text/plain": [
       "       Age(yrs)  Gender  Height (cm)  Weight(kg)  Health Insurance cover  \\\n",
       "0      0.250000    male         61.4         6.4                  500000   \n",
       "1      0.333333    male         63.9         7.0                  500000   \n",
       "2      0.416667    male         65.9         7.5                  500000   \n",
       "3      0.500000    male         67.6         7.9                  500000   \n",
       "4      0.583333    male         69.2         8.3                  500000   \n",
       "...         ...     ...          ...         ...                     ...   \n",
       "1671  81.000000  female        155.0         NaN                10000000   \n",
       "1672  82.000000  female        155.0        65.0                10000000   \n",
       "1673  83.000000  female        155.0        65.0                10000000   \n",
       "1674  84.000000  female        155.0        65.0                10000000   \n",
       "1675  85.000000  female        155.0        65.0                10000000   \n",
       "\n",
       "      Premium  \n",
       "0        7015  \n",
       "1        7015  \n",
       "2        7015  \n",
       "3        7015  \n",
       "4        7015  \n",
       "...       ...  \n",
       "1671   111340  \n",
       "1672   111340  \n",
       "1673   111340  \n",
       "1674   111340  \n",
       "1675   111340  \n",
       "\n",
       "[1676 rows x 6 columns]"
      ]
     },
     "execution_count": 50,
     "metadata": {},
     "output_type": "execute_result"
    }
   ],
   "source": [
    "df"
   ]
  },
  {
   "cell_type": "code",
   "execution_count": 51,
   "id": "a38e1e3c",
   "metadata": {},
   "outputs": [
    {
     "data": {
      "text/plain": [
       "array(['male', 'female'], dtype=object)"
      ]
     },
     "execution_count": 51,
     "metadata": {},
     "output_type": "execute_result"
    }
   ],
   "source": [
    "df['Gender'].unique()"
   ]
  },
  {
   "cell_type": "code",
   "execution_count": 52,
   "id": "3bdb8657",
   "metadata": {},
   "outputs": [],
   "source": [
    "df['Gender'] = df['Gender'].replace({'male':0 ,'female':1})"
   ]
  },
  {
   "cell_type": "code",
   "execution_count": 53,
   "id": "904babb7",
   "metadata": {},
   "outputs": [
    {
     "data": {
      "text/html": [
       "<div>\n",
       "<style scoped>\n",
       "    .dataframe tbody tr th:only-of-type {\n",
       "        vertical-align: middle;\n",
       "    }\n",
       "\n",
       "    .dataframe tbody tr th {\n",
       "        vertical-align: top;\n",
       "    }\n",
       "\n",
       "    .dataframe thead th {\n",
       "        text-align: right;\n",
       "    }\n",
       "</style>\n",
       "<table border=\"1\" class=\"dataframe\">\n",
       "  <thead>\n",
       "    <tr style=\"text-align: right;\">\n",
       "      <th></th>\n",
       "      <th>Age(yrs)</th>\n",
       "      <th>Gender</th>\n",
       "      <th>Height (cm)</th>\n",
       "      <th>Weight(kg)</th>\n",
       "      <th>Health Insurance cover</th>\n",
       "      <th>Premium</th>\n",
       "    </tr>\n",
       "  </thead>\n",
       "  <tbody>\n",
       "    <tr>\n",
       "      <th>0</th>\n",
       "      <td>0.250000</td>\n",
       "      <td>0</td>\n",
       "      <td>61.4</td>\n",
       "      <td>6.4</td>\n",
       "      <td>500000</td>\n",
       "      <td>7015</td>\n",
       "    </tr>\n",
       "    <tr>\n",
       "      <th>1</th>\n",
       "      <td>0.333333</td>\n",
       "      <td>0</td>\n",
       "      <td>63.9</td>\n",
       "      <td>7.0</td>\n",
       "      <td>500000</td>\n",
       "      <td>7015</td>\n",
       "    </tr>\n",
       "    <tr>\n",
       "      <th>2</th>\n",
       "      <td>0.416667</td>\n",
       "      <td>0</td>\n",
       "      <td>65.9</td>\n",
       "      <td>7.5</td>\n",
       "      <td>500000</td>\n",
       "      <td>7015</td>\n",
       "    </tr>\n",
       "    <tr>\n",
       "      <th>3</th>\n",
       "      <td>0.500000</td>\n",
       "      <td>0</td>\n",
       "      <td>67.6</td>\n",
       "      <td>7.9</td>\n",
       "      <td>500000</td>\n",
       "      <td>7015</td>\n",
       "    </tr>\n",
       "    <tr>\n",
       "      <th>4</th>\n",
       "      <td>0.583333</td>\n",
       "      <td>0</td>\n",
       "      <td>69.2</td>\n",
       "      <td>8.3</td>\n",
       "      <td>500000</td>\n",
       "      <td>7015</td>\n",
       "    </tr>\n",
       "    <tr>\n",
       "      <th>...</th>\n",
       "      <td>...</td>\n",
       "      <td>...</td>\n",
       "      <td>...</td>\n",
       "      <td>...</td>\n",
       "      <td>...</td>\n",
       "      <td>...</td>\n",
       "    </tr>\n",
       "    <tr>\n",
       "      <th>1671</th>\n",
       "      <td>81.000000</td>\n",
       "      <td>1</td>\n",
       "      <td>155.0</td>\n",
       "      <td>NaN</td>\n",
       "      <td>10000000</td>\n",
       "      <td>111340</td>\n",
       "    </tr>\n",
       "    <tr>\n",
       "      <th>1672</th>\n",
       "      <td>82.000000</td>\n",
       "      <td>1</td>\n",
       "      <td>155.0</td>\n",
       "      <td>65.0</td>\n",
       "      <td>10000000</td>\n",
       "      <td>111340</td>\n",
       "    </tr>\n",
       "    <tr>\n",
       "      <th>1673</th>\n",
       "      <td>83.000000</td>\n",
       "      <td>1</td>\n",
       "      <td>155.0</td>\n",
       "      <td>65.0</td>\n",
       "      <td>10000000</td>\n",
       "      <td>111340</td>\n",
       "    </tr>\n",
       "    <tr>\n",
       "      <th>1674</th>\n",
       "      <td>84.000000</td>\n",
       "      <td>1</td>\n",
       "      <td>155.0</td>\n",
       "      <td>65.0</td>\n",
       "      <td>10000000</td>\n",
       "      <td>111340</td>\n",
       "    </tr>\n",
       "    <tr>\n",
       "      <th>1675</th>\n",
       "      <td>85.000000</td>\n",
       "      <td>1</td>\n",
       "      <td>155.0</td>\n",
       "      <td>65.0</td>\n",
       "      <td>10000000</td>\n",
       "      <td>111340</td>\n",
       "    </tr>\n",
       "  </tbody>\n",
       "</table>\n",
       "<p>1676 rows × 6 columns</p>\n",
       "</div>"
      ],
      "text/plain": [
       "       Age(yrs)  Gender  Height (cm)  Weight(kg)  Health Insurance cover  \\\n",
       "0      0.250000       0         61.4         6.4                  500000   \n",
       "1      0.333333       0         63.9         7.0                  500000   \n",
       "2      0.416667       0         65.9         7.5                  500000   \n",
       "3      0.500000       0         67.6         7.9                  500000   \n",
       "4      0.583333       0         69.2         8.3                  500000   \n",
       "...         ...     ...          ...         ...                     ...   \n",
       "1671  81.000000       1        155.0         NaN                10000000   \n",
       "1672  82.000000       1        155.0        65.0                10000000   \n",
       "1673  83.000000       1        155.0        65.0                10000000   \n",
       "1674  84.000000       1        155.0        65.0                10000000   \n",
       "1675  85.000000       1        155.0        65.0                10000000   \n",
       "\n",
       "      Premium  \n",
       "0        7015  \n",
       "1        7015  \n",
       "2        7015  \n",
       "3        7015  \n",
       "4        7015  \n",
       "...       ...  \n",
       "1671   111340  \n",
       "1672   111340  \n",
       "1673   111340  \n",
       "1674   111340  \n",
       "1675   111340  \n",
       "\n",
       "[1676 rows x 6 columns]"
      ]
     },
     "execution_count": 53,
     "metadata": {},
     "output_type": "execute_result"
    }
   ],
   "source": [
    "df"
   ]
  },
  {
   "cell_type": "code",
   "execution_count": 54,
   "id": "7d864d42",
   "metadata": {},
   "outputs": [],
   "source": [
    "df['BMI'] = df['Weight(kg)']/(((df['Height (cm)'])/100) * ((df['Height (cm)'])/100))"
   ]
  },
  {
   "cell_type": "code",
   "execution_count": 55,
   "id": "f2e7659c",
   "metadata": {},
   "outputs": [
    {
     "data": {
      "text/plain": [
       "0       16.976307\n",
       "1       17.143375\n",
       "2       17.269924\n",
       "3       17.287560\n",
       "4       17.332687\n",
       "          ...    \n",
       "1671          NaN\n",
       "1672    27.055151\n",
       "1673    27.055151\n",
       "1674    27.055151\n",
       "1675    27.055151\n",
       "Name: BMI, Length: 1676, dtype: float64"
      ]
     },
     "execution_count": 55,
     "metadata": {},
     "output_type": "execute_result"
    }
   ],
   "source": [
    "df['BMI']"
   ]
  },
  {
   "cell_type": "code",
   "execution_count": 56,
   "id": "097324ac",
   "metadata": {},
   "outputs": [
    {
     "data": {
      "text/html": [
       "<div>\n",
       "<style scoped>\n",
       "    .dataframe tbody tr th:only-of-type {\n",
       "        vertical-align: middle;\n",
       "    }\n",
       "\n",
       "    .dataframe tbody tr th {\n",
       "        vertical-align: top;\n",
       "    }\n",
       "\n",
       "    .dataframe thead th {\n",
       "        text-align: right;\n",
       "    }\n",
       "</style>\n",
       "<table border=\"1\" class=\"dataframe\">\n",
       "  <thead>\n",
       "    <tr style=\"text-align: right;\">\n",
       "      <th></th>\n",
       "      <th>Age(yrs)</th>\n",
       "      <th>Gender</th>\n",
       "      <th>Height (cm)</th>\n",
       "      <th>Weight(kg)</th>\n",
       "      <th>Health Insurance cover</th>\n",
       "      <th>Premium</th>\n",
       "      <th>BMI</th>\n",
       "    </tr>\n",
       "  </thead>\n",
       "  <tbody>\n",
       "    <tr>\n",
       "      <th>0</th>\n",
       "      <td>0.250000</td>\n",
       "      <td>0</td>\n",
       "      <td>61.4</td>\n",
       "      <td>6.4</td>\n",
       "      <td>500000</td>\n",
       "      <td>7015</td>\n",
       "      <td>16.976307</td>\n",
       "    </tr>\n",
       "    <tr>\n",
       "      <th>1</th>\n",
       "      <td>0.333333</td>\n",
       "      <td>0</td>\n",
       "      <td>63.9</td>\n",
       "      <td>7.0</td>\n",
       "      <td>500000</td>\n",
       "      <td>7015</td>\n",
       "      <td>17.143375</td>\n",
       "    </tr>\n",
       "    <tr>\n",
       "      <th>2</th>\n",
       "      <td>0.416667</td>\n",
       "      <td>0</td>\n",
       "      <td>65.9</td>\n",
       "      <td>7.5</td>\n",
       "      <td>500000</td>\n",
       "      <td>7015</td>\n",
       "      <td>17.269924</td>\n",
       "    </tr>\n",
       "    <tr>\n",
       "      <th>3</th>\n",
       "      <td>0.500000</td>\n",
       "      <td>0</td>\n",
       "      <td>67.6</td>\n",
       "      <td>7.9</td>\n",
       "      <td>500000</td>\n",
       "      <td>7015</td>\n",
       "      <td>17.287560</td>\n",
       "    </tr>\n",
       "    <tr>\n",
       "      <th>4</th>\n",
       "      <td>0.583333</td>\n",
       "      <td>0</td>\n",
       "      <td>69.2</td>\n",
       "      <td>8.3</td>\n",
       "      <td>500000</td>\n",
       "      <td>7015</td>\n",
       "      <td>17.332687</td>\n",
       "    </tr>\n",
       "    <tr>\n",
       "      <th>...</th>\n",
       "      <td>...</td>\n",
       "      <td>...</td>\n",
       "      <td>...</td>\n",
       "      <td>...</td>\n",
       "      <td>...</td>\n",
       "      <td>...</td>\n",
       "      <td>...</td>\n",
       "    </tr>\n",
       "    <tr>\n",
       "      <th>1671</th>\n",
       "      <td>81.000000</td>\n",
       "      <td>1</td>\n",
       "      <td>155.0</td>\n",
       "      <td>NaN</td>\n",
       "      <td>10000000</td>\n",
       "      <td>111340</td>\n",
       "      <td>NaN</td>\n",
       "    </tr>\n",
       "    <tr>\n",
       "      <th>1672</th>\n",
       "      <td>82.000000</td>\n",
       "      <td>1</td>\n",
       "      <td>155.0</td>\n",
       "      <td>65.0</td>\n",
       "      <td>10000000</td>\n",
       "      <td>111340</td>\n",
       "      <td>27.055151</td>\n",
       "    </tr>\n",
       "    <tr>\n",
       "      <th>1673</th>\n",
       "      <td>83.000000</td>\n",
       "      <td>1</td>\n",
       "      <td>155.0</td>\n",
       "      <td>65.0</td>\n",
       "      <td>10000000</td>\n",
       "      <td>111340</td>\n",
       "      <td>27.055151</td>\n",
       "    </tr>\n",
       "    <tr>\n",
       "      <th>1674</th>\n",
       "      <td>84.000000</td>\n",
       "      <td>1</td>\n",
       "      <td>155.0</td>\n",
       "      <td>65.0</td>\n",
       "      <td>10000000</td>\n",
       "      <td>111340</td>\n",
       "      <td>27.055151</td>\n",
       "    </tr>\n",
       "    <tr>\n",
       "      <th>1675</th>\n",
       "      <td>85.000000</td>\n",
       "      <td>1</td>\n",
       "      <td>155.0</td>\n",
       "      <td>65.0</td>\n",
       "      <td>10000000</td>\n",
       "      <td>111340</td>\n",
       "      <td>27.055151</td>\n",
       "    </tr>\n",
       "  </tbody>\n",
       "</table>\n",
       "<p>1676 rows × 7 columns</p>\n",
       "</div>"
      ],
      "text/plain": [
       "       Age(yrs)  Gender  Height (cm)  Weight(kg)  Health Insurance cover  \\\n",
       "0      0.250000       0         61.4         6.4                  500000   \n",
       "1      0.333333       0         63.9         7.0                  500000   \n",
       "2      0.416667       0         65.9         7.5                  500000   \n",
       "3      0.500000       0         67.6         7.9                  500000   \n",
       "4      0.583333       0         69.2         8.3                  500000   \n",
       "...         ...     ...          ...         ...                     ...   \n",
       "1671  81.000000       1        155.0         NaN                10000000   \n",
       "1672  82.000000       1        155.0        65.0                10000000   \n",
       "1673  83.000000       1        155.0        65.0                10000000   \n",
       "1674  84.000000       1        155.0        65.0                10000000   \n",
       "1675  85.000000       1        155.0        65.0                10000000   \n",
       "\n",
       "      Premium        BMI  \n",
       "0        7015  16.976307  \n",
       "1        7015  17.143375  \n",
       "2        7015  17.269924  \n",
       "3        7015  17.287560  \n",
       "4        7015  17.332687  \n",
       "...       ...        ...  \n",
       "1671   111340        NaN  \n",
       "1672   111340  27.055151  \n",
       "1673   111340  27.055151  \n",
       "1674   111340  27.055151  \n",
       "1675   111340  27.055151  \n",
       "\n",
       "[1676 rows x 7 columns]"
      ]
     },
     "execution_count": 56,
     "metadata": {},
     "output_type": "execute_result"
    }
   ],
   "source": [
    "df"
   ]
  },
  {
   "cell_type": "code",
   "execution_count": 57,
   "id": "cd91207a",
   "metadata": {},
   "outputs": [],
   "source": [
    "df.drop(['Height (cm)','Weight(kg)'], axis = 1 , inplace  = True)"
   ]
  },
  {
   "cell_type": "code",
   "execution_count": 58,
   "id": "8a2f5458",
   "metadata": {},
   "outputs": [
    {
     "data": {
      "text/html": [
       "<div>\n",
       "<style scoped>\n",
       "    .dataframe tbody tr th:only-of-type {\n",
       "        vertical-align: middle;\n",
       "    }\n",
       "\n",
       "    .dataframe tbody tr th {\n",
       "        vertical-align: top;\n",
       "    }\n",
       "\n",
       "    .dataframe thead th {\n",
       "        text-align: right;\n",
       "    }\n",
       "</style>\n",
       "<table border=\"1\" class=\"dataframe\">\n",
       "  <thead>\n",
       "    <tr style=\"text-align: right;\">\n",
       "      <th></th>\n",
       "      <th>Age(yrs)</th>\n",
       "      <th>Gender</th>\n",
       "      <th>Health Insurance cover</th>\n",
       "      <th>Premium</th>\n",
       "      <th>BMI</th>\n",
       "    </tr>\n",
       "  </thead>\n",
       "  <tbody>\n",
       "    <tr>\n",
       "      <th>0</th>\n",
       "      <td>0.250000</td>\n",
       "      <td>0</td>\n",
       "      <td>500000</td>\n",
       "      <td>7015</td>\n",
       "      <td>16.976307</td>\n",
       "    </tr>\n",
       "    <tr>\n",
       "      <th>1</th>\n",
       "      <td>0.333333</td>\n",
       "      <td>0</td>\n",
       "      <td>500000</td>\n",
       "      <td>7015</td>\n",
       "      <td>17.143375</td>\n",
       "    </tr>\n",
       "    <tr>\n",
       "      <th>2</th>\n",
       "      <td>0.416667</td>\n",
       "      <td>0</td>\n",
       "      <td>500000</td>\n",
       "      <td>7015</td>\n",
       "      <td>17.269924</td>\n",
       "    </tr>\n",
       "    <tr>\n",
       "      <th>3</th>\n",
       "      <td>0.500000</td>\n",
       "      <td>0</td>\n",
       "      <td>500000</td>\n",
       "      <td>7015</td>\n",
       "      <td>17.287560</td>\n",
       "    </tr>\n",
       "    <tr>\n",
       "      <th>4</th>\n",
       "      <td>0.583333</td>\n",
       "      <td>0</td>\n",
       "      <td>500000</td>\n",
       "      <td>7015</td>\n",
       "      <td>17.332687</td>\n",
       "    </tr>\n",
       "    <tr>\n",
       "      <th>...</th>\n",
       "      <td>...</td>\n",
       "      <td>...</td>\n",
       "      <td>...</td>\n",
       "      <td>...</td>\n",
       "      <td>...</td>\n",
       "    </tr>\n",
       "    <tr>\n",
       "      <th>1671</th>\n",
       "      <td>81.000000</td>\n",
       "      <td>1</td>\n",
       "      <td>10000000</td>\n",
       "      <td>111340</td>\n",
       "      <td>NaN</td>\n",
       "    </tr>\n",
       "    <tr>\n",
       "      <th>1672</th>\n",
       "      <td>82.000000</td>\n",
       "      <td>1</td>\n",
       "      <td>10000000</td>\n",
       "      <td>111340</td>\n",
       "      <td>27.055151</td>\n",
       "    </tr>\n",
       "    <tr>\n",
       "      <th>1673</th>\n",
       "      <td>83.000000</td>\n",
       "      <td>1</td>\n",
       "      <td>10000000</td>\n",
       "      <td>111340</td>\n",
       "      <td>27.055151</td>\n",
       "    </tr>\n",
       "    <tr>\n",
       "      <th>1674</th>\n",
       "      <td>84.000000</td>\n",
       "      <td>1</td>\n",
       "      <td>10000000</td>\n",
       "      <td>111340</td>\n",
       "      <td>27.055151</td>\n",
       "    </tr>\n",
       "    <tr>\n",
       "      <th>1675</th>\n",
       "      <td>85.000000</td>\n",
       "      <td>1</td>\n",
       "      <td>10000000</td>\n",
       "      <td>111340</td>\n",
       "      <td>27.055151</td>\n",
       "    </tr>\n",
       "  </tbody>\n",
       "</table>\n",
       "<p>1676 rows × 5 columns</p>\n",
       "</div>"
      ],
      "text/plain": [
       "       Age(yrs)  Gender  Health Insurance cover  Premium        BMI\n",
       "0      0.250000       0                  500000     7015  16.976307\n",
       "1      0.333333       0                  500000     7015  17.143375\n",
       "2      0.416667       0                  500000     7015  17.269924\n",
       "3      0.500000       0                  500000     7015  17.287560\n",
       "4      0.583333       0                  500000     7015  17.332687\n",
       "...         ...     ...                     ...      ...        ...\n",
       "1671  81.000000       1                10000000   111340        NaN\n",
       "1672  82.000000       1                10000000   111340  27.055151\n",
       "1673  83.000000       1                10000000   111340  27.055151\n",
       "1674  84.000000       1                10000000   111340  27.055151\n",
       "1675  85.000000       1                10000000   111340  27.055151\n",
       "\n",
       "[1676 rows x 5 columns]"
      ]
     },
     "execution_count": 58,
     "metadata": {},
     "output_type": "execute_result"
    }
   ],
   "source": [
    "df"
   ]
  },
  {
   "cell_type": "code",
   "execution_count": 59,
   "id": "09694613",
   "metadata": {},
   "outputs": [
    {
     "data": {
      "text/plain": [
       "13"
      ]
     },
     "execution_count": 59,
     "metadata": {},
     "output_type": "execute_result"
    }
   ],
   "source": [
    "df['BMI'].isnull().sum()"
   ]
  },
  {
   "cell_type": "code",
   "execution_count": null,
   "id": "75382695",
   "metadata": {},
   "outputs": [],
   "source": [
    "# To fill the missing value "
   ]
  },
  {
   "cell_type": "code",
   "execution_count": 60,
   "id": "5c6e9517",
   "metadata": {},
   "outputs": [],
   "source": [
    "df['BMI'] = df['BMI'].fillna(df['BMI'].median())"
   ]
  },
  {
   "cell_type": "code",
   "execution_count": 61,
   "id": "39a58abb",
   "metadata": {},
   "outputs": [
    {
     "data": {
      "text/plain": [
       "0"
      ]
     },
     "execution_count": 61,
     "metadata": {},
     "output_type": "execute_result"
    }
   ],
   "source": [
    "df['BMI'].isnull().sum()"
   ]
  },
  {
   "cell_type": "code",
   "execution_count": 62,
   "id": "8e43f4a4",
   "metadata": {},
   "outputs": [
    {
     "data": {
      "text/html": [
       "<div>\n",
       "<style scoped>\n",
       "    .dataframe tbody tr th:only-of-type {\n",
       "        vertical-align: middle;\n",
       "    }\n",
       "\n",
       "    .dataframe tbody tr th {\n",
       "        vertical-align: top;\n",
       "    }\n",
       "\n",
       "    .dataframe thead th {\n",
       "        text-align: right;\n",
       "    }\n",
       "</style>\n",
       "<table border=\"1\" class=\"dataframe\">\n",
       "  <thead>\n",
       "    <tr style=\"text-align: right;\">\n",
       "      <th></th>\n",
       "      <th>Age(yrs)</th>\n",
       "      <th>Gender</th>\n",
       "      <th>Health Insurance cover</th>\n",
       "      <th>Premium</th>\n",
       "      <th>BMI</th>\n",
       "    </tr>\n",
       "  </thead>\n",
       "  <tbody>\n",
       "    <tr>\n",
       "      <th>0</th>\n",
       "      <td>0.250000</td>\n",
       "      <td>0</td>\n",
       "      <td>500000</td>\n",
       "      <td>7015</td>\n",
       "      <td>16.976307</td>\n",
       "    </tr>\n",
       "    <tr>\n",
       "      <th>1</th>\n",
       "      <td>0.333333</td>\n",
       "      <td>0</td>\n",
       "      <td>500000</td>\n",
       "      <td>7015</td>\n",
       "      <td>17.143375</td>\n",
       "    </tr>\n",
       "    <tr>\n",
       "      <th>2</th>\n",
       "      <td>0.416667</td>\n",
       "      <td>0</td>\n",
       "      <td>500000</td>\n",
       "      <td>7015</td>\n",
       "      <td>17.269924</td>\n",
       "    </tr>\n",
       "    <tr>\n",
       "      <th>3</th>\n",
       "      <td>0.500000</td>\n",
       "      <td>0</td>\n",
       "      <td>500000</td>\n",
       "      <td>7015</td>\n",
       "      <td>17.287560</td>\n",
       "    </tr>\n",
       "    <tr>\n",
       "      <th>4</th>\n",
       "      <td>0.583333</td>\n",
       "      <td>0</td>\n",
       "      <td>500000</td>\n",
       "      <td>7015</td>\n",
       "      <td>17.332687</td>\n",
       "    </tr>\n",
       "    <tr>\n",
       "      <th>...</th>\n",
       "      <td>...</td>\n",
       "      <td>...</td>\n",
       "      <td>...</td>\n",
       "      <td>...</td>\n",
       "      <td>...</td>\n",
       "    </tr>\n",
       "    <tr>\n",
       "      <th>1671</th>\n",
       "      <td>81.000000</td>\n",
       "      <td>1</td>\n",
       "      <td>10000000</td>\n",
       "      <td>111340</td>\n",
       "      <td>23.875115</td>\n",
       "    </tr>\n",
       "    <tr>\n",
       "      <th>1672</th>\n",
       "      <td>82.000000</td>\n",
       "      <td>1</td>\n",
       "      <td>10000000</td>\n",
       "      <td>111340</td>\n",
       "      <td>27.055151</td>\n",
       "    </tr>\n",
       "    <tr>\n",
       "      <th>1673</th>\n",
       "      <td>83.000000</td>\n",
       "      <td>1</td>\n",
       "      <td>10000000</td>\n",
       "      <td>111340</td>\n",
       "      <td>27.055151</td>\n",
       "    </tr>\n",
       "    <tr>\n",
       "      <th>1674</th>\n",
       "      <td>84.000000</td>\n",
       "      <td>1</td>\n",
       "      <td>10000000</td>\n",
       "      <td>111340</td>\n",
       "      <td>27.055151</td>\n",
       "    </tr>\n",
       "    <tr>\n",
       "      <th>1675</th>\n",
       "      <td>85.000000</td>\n",
       "      <td>1</td>\n",
       "      <td>10000000</td>\n",
       "      <td>111340</td>\n",
       "      <td>27.055151</td>\n",
       "    </tr>\n",
       "  </tbody>\n",
       "</table>\n",
       "<p>1676 rows × 5 columns</p>\n",
       "</div>"
      ],
      "text/plain": [
       "       Age(yrs)  Gender  Health Insurance cover  Premium        BMI\n",
       "0      0.250000       0                  500000     7015  16.976307\n",
       "1      0.333333       0                  500000     7015  17.143375\n",
       "2      0.416667       0                  500000     7015  17.269924\n",
       "3      0.500000       0                  500000     7015  17.287560\n",
       "4      0.583333       0                  500000     7015  17.332687\n",
       "...         ...     ...                     ...      ...        ...\n",
       "1671  81.000000       1                10000000   111340  23.875115\n",
       "1672  82.000000       1                10000000   111340  27.055151\n",
       "1673  83.000000       1                10000000   111340  27.055151\n",
       "1674  84.000000       1                10000000   111340  27.055151\n",
       "1675  85.000000       1                10000000   111340  27.055151\n",
       "\n",
       "[1676 rows x 5 columns]"
      ]
     },
     "execution_count": 62,
     "metadata": {},
     "output_type": "execute_result"
    }
   ],
   "source": [
    "df"
   ]
  },
  {
   "cell_type": "code",
   "execution_count": 63,
   "id": "d5d67358",
   "metadata": {},
   "outputs": [
    {
     "name": "stdout",
     "output_type": "stream",
     "text": [
      "<class 'pandas.core.frame.DataFrame'>\n",
      "RangeIndex: 1676 entries, 0 to 1675\n",
      "Data columns (total 5 columns):\n",
      " #   Column                  Non-Null Count  Dtype  \n",
      "---  ------                  --------------  -----  \n",
      " 0   Age(yrs)                1676 non-null   float64\n",
      " 1   Gender                  1676 non-null   int64  \n",
      " 2   Health Insurance cover  1676 non-null   int64  \n",
      " 3   Premium                 1676 non-null   int64  \n",
      " 4   BMI                     1676 non-null   float64\n",
      "dtypes: float64(2), int64(3)\n",
      "memory usage: 65.6 KB\n"
     ]
    }
   ],
   "source": [
    "df.info()"
   ]
  },
  {
   "cell_type": "markdown",
   "id": "6eade526",
   "metadata": {},
   "source": [
    "# Train Model:"
   ]
  },
  {
   "cell_type": "code",
   "execution_count": 64,
   "id": "b2c40887",
   "metadata": {},
   "outputs": [],
   "source": [
    "x = df.drop(['Premium'],axis = 1) # independent variable\n",
    "y = df['Premium']                 # # dependent variable"
   ]
  },
  {
   "cell_type": "markdown",
   "id": "745bafa0",
   "metadata": {},
   "source": [
    "# Splititng Data :"
   ]
  },
  {
   "cell_type": "code",
   "execution_count": 65,
   "id": "2f2f3cf3",
   "metadata": {},
   "outputs": [],
   "source": [
    "x_train, x_test, y_train, y_test = train_test_split(x,y, test_size = 0.2, random_state = 20)"
   ]
  },
  {
   "cell_type": "markdown",
   "id": "a20d150f",
   "metadata": {},
   "source": [
    "# Model Training :"
   ]
  },
  {
   "cell_type": "code",
   "execution_count": 69,
   "id": "8e579cfa",
   "metadata": {},
   "outputs": [
    {
     "data": {
      "text/html": [
       "<style>#sk-container-id-1 {color: black;background-color: white;}#sk-container-id-1 pre{padding: 0;}#sk-container-id-1 div.sk-toggleable {background-color: white;}#sk-container-id-1 label.sk-toggleable__label {cursor: pointer;display: block;width: 100%;margin-bottom: 0;padding: 0.3em;box-sizing: border-box;text-align: center;}#sk-container-id-1 label.sk-toggleable__label-arrow:before {content: \"▸\";float: left;margin-right: 0.25em;color: #696969;}#sk-container-id-1 label.sk-toggleable__label-arrow:hover:before {color: black;}#sk-container-id-1 div.sk-estimator:hover label.sk-toggleable__label-arrow:before {color: black;}#sk-container-id-1 div.sk-toggleable__content {max-height: 0;max-width: 0;overflow: hidden;text-align: left;background-color: #f0f8ff;}#sk-container-id-1 div.sk-toggleable__content pre {margin: 0.2em;color: black;border-radius: 0.25em;background-color: #f0f8ff;}#sk-container-id-1 input.sk-toggleable__control:checked~div.sk-toggleable__content {max-height: 200px;max-width: 100%;overflow: auto;}#sk-container-id-1 input.sk-toggleable__control:checked~label.sk-toggleable__label-arrow:before {content: \"▾\";}#sk-container-id-1 div.sk-estimator input.sk-toggleable__control:checked~label.sk-toggleable__label {background-color: #d4ebff;}#sk-container-id-1 div.sk-label input.sk-toggleable__control:checked~label.sk-toggleable__label {background-color: #d4ebff;}#sk-container-id-1 input.sk-hidden--visually {border: 0;clip: rect(1px 1px 1px 1px);clip: rect(1px, 1px, 1px, 1px);height: 1px;margin: -1px;overflow: hidden;padding: 0;position: absolute;width: 1px;}#sk-container-id-1 div.sk-estimator {font-family: monospace;background-color: #f0f8ff;border: 1px dotted black;border-radius: 0.25em;box-sizing: border-box;margin-bottom: 0.5em;}#sk-container-id-1 div.sk-estimator:hover {background-color: #d4ebff;}#sk-container-id-1 div.sk-parallel-item::after {content: \"\";width: 100%;border-bottom: 1px solid gray;flex-grow: 1;}#sk-container-id-1 div.sk-label:hover label.sk-toggleable__label {background-color: #d4ebff;}#sk-container-id-1 div.sk-serial::before {content: \"\";position: absolute;border-left: 1px solid gray;box-sizing: border-box;top: 0;bottom: 0;left: 50%;z-index: 0;}#sk-container-id-1 div.sk-serial {display: flex;flex-direction: column;align-items: center;background-color: white;padding-right: 0.2em;padding-left: 0.2em;position: relative;}#sk-container-id-1 div.sk-item {position: relative;z-index: 1;}#sk-container-id-1 div.sk-parallel {display: flex;align-items: stretch;justify-content: center;background-color: white;position: relative;}#sk-container-id-1 div.sk-item::before, #sk-container-id-1 div.sk-parallel-item::before {content: \"\";position: absolute;border-left: 1px solid gray;box-sizing: border-box;top: 0;bottom: 0;left: 50%;z-index: -1;}#sk-container-id-1 div.sk-parallel-item {display: flex;flex-direction: column;z-index: 1;position: relative;background-color: white;}#sk-container-id-1 div.sk-parallel-item:first-child::after {align-self: flex-end;width: 50%;}#sk-container-id-1 div.sk-parallel-item:last-child::after {align-self: flex-start;width: 50%;}#sk-container-id-1 div.sk-parallel-item:only-child::after {width: 0;}#sk-container-id-1 div.sk-dashed-wrapped {border: 1px dashed gray;margin: 0 0.4em 0.5em 0.4em;box-sizing: border-box;padding-bottom: 0.4em;background-color: white;}#sk-container-id-1 div.sk-label label {font-family: monospace;font-weight: bold;display: inline-block;line-height: 1.2em;}#sk-container-id-1 div.sk-label-container {text-align: center;}#sk-container-id-1 div.sk-container {/* jupyter's `normalize.less` sets `[hidden] { display: none; }` but bootstrap.min.css set `[hidden] { display: none !important; }` so we also need the `!important` here to be able to override the default hidden behavior on the sphinx rendered scikit-learn.org. See: https://github.com/scikit-learn/scikit-learn/issues/21755 */display: inline-block !important;position: relative;}#sk-container-id-1 div.sk-text-repr-fallback {display: none;}</style><div id=\"sk-container-id-1\" class=\"sk-top-container\"><div class=\"sk-text-repr-fallback\"><pre>LinearRegression()</pre><b>In a Jupyter environment, please rerun this cell to show the HTML representation or trust the notebook. <br />On GitHub, the HTML representation is unable to render, please try loading this page with nbviewer.org.</b></div><div class=\"sk-container\" hidden><div class=\"sk-item\"><div class=\"sk-estimator sk-toggleable\"><input class=\"sk-toggleable__control sk-hidden--visually\" id=\"sk-estimator-id-1\" type=\"checkbox\" checked><label for=\"sk-estimator-id-1\" class=\"sk-toggleable__label sk-toggleable__label-arrow\">LinearRegression</label><div class=\"sk-toggleable__content\"><pre>LinearRegression()</pre></div></div></div></div></div>"
      ],
      "text/plain": [
       "LinearRegression()"
      ]
     },
     "execution_count": 69,
     "metadata": {},
     "output_type": "execute_result"
    }
   ],
   "source": [
    "linear_reg_model = LinearRegression()\n",
    "linear_reg_model.fit(x_train,y_train)"
   ]
  },
  {
   "cell_type": "markdown",
   "id": "18ac12df",
   "metadata": {},
   "source": [
    "# Evaluation :"
   ]
  },
  {
   "cell_type": "markdown",
   "id": "781f7a6b",
   "metadata": {},
   "source": [
    "## Training Accuracy:"
   ]
  },
  {
   "cell_type": "code",
   "execution_count": 70,
   "id": "d1d07ad5",
   "metadata": {},
   "outputs": [
    {
     "name": "stdout",
     "output_type": "stream",
     "text": [
      "MSE value 114738693.75202626\n",
      "RMSE value 10711.614899352304\n",
      "MAE value 8108.910005606603\n",
      "R_squared value 0.8199861753396451\n"
     ]
    }
   ],
   "source": [
    "y_pred = linear_reg_model.predict(x_train)\n",
    "\n",
    "MSE = mean_squared_error(y_train,y_pred)\n",
    "print(\"MSE value\", MSE)\n",
    "\n",
    "RMSE = np.sqrt(MSE)\n",
    "print(\"RMSE value\", RMSE)\n",
    "\n",
    "MAE = mean_absolute_error(y_train,y_pred)\n",
    "print(\"MAE value\", MAE)\n",
    "\n",
    "r2_value = r2_score(y_train,y_pred)\n",
    "print(\"R_squared value\", r2_value)"
   ]
  },
  {
   "cell_type": "markdown",
   "id": "5424dbc0",
   "metadata": {},
   "source": [
    "# Testing Accuracy :"
   ]
  },
  {
   "cell_type": "code",
   "execution_count": 71,
   "id": "9537344b",
   "metadata": {},
   "outputs": [
    {
     "name": "stdout",
     "output_type": "stream",
     "text": [
      "MSE value 105228152.37490089\n",
      "RMSE value 10258.077420983958\n",
      "MAE value 7756.489706874209\n",
      "R_squared value 0.8383994927173307\n"
     ]
    }
   ],
   "source": [
    "y_pred = linear_reg_model.predict(x_test)\n",
    "\n",
    "MSE = mean_squared_error(y_test,y_pred)\n",
    "print(\"MSE value\", MSE)\n",
    "\n",
    "RMSE = np.sqrt(MSE)\n",
    "print(\"RMSE value\", RMSE)\n",
    "\n",
    "MAE = mean_absolute_error(y_test,y_pred)\n",
    "print(\"MAE value\", MAE)\n",
    "\n",
    "r2_value = r2_score(y_test,y_pred)\n",
    "print(\"R_squared value\", r2_value)"
   ]
  },
  {
   "cell_type": "markdown",
   "id": "99ae7f81",
   "metadata": {},
   "source": [
    "# Scaling :"
   ]
  },
  {
   "cell_type": "code",
   "execution_count": 72,
   "id": "fdd0f391",
   "metadata": {},
   "outputs": [],
   "source": [
    "norm = MinMaxScaler()\n",
    "norm_array = norm.fit_transform(x_train)\n",
    "norm_xtrain_df = pd.DataFrame(norm_array , columns = x.columns) "
   ]
  },
  {
   "cell_type": "code",
   "execution_count": 73,
   "id": "c05cce07",
   "metadata": {},
   "outputs": [
    {
     "data": {
      "text/html": [
       "<div>\n",
       "<style scoped>\n",
       "    .dataframe tbody tr th:only-of-type {\n",
       "        vertical-align: middle;\n",
       "    }\n",
       "\n",
       "    .dataframe tbody tr th {\n",
       "        vertical-align: top;\n",
       "    }\n",
       "\n",
       "    .dataframe thead th {\n",
       "        text-align: right;\n",
       "    }\n",
       "</style>\n",
       "<table border=\"1\" class=\"dataframe\">\n",
       "  <thead>\n",
       "    <tr style=\"text-align: right;\">\n",
       "      <th></th>\n",
       "      <th>Age(yrs)</th>\n",
       "      <th>Gender</th>\n",
       "      <th>Health Insurance cover</th>\n",
       "      <th>BMI</th>\n",
       "    </tr>\n",
       "  </thead>\n",
       "  <tbody>\n",
       "    <tr>\n",
       "      <th>0</th>\n",
       "      <td>0.221239</td>\n",
       "      <td>1.0</td>\n",
       "      <td>0.157895</td>\n",
       "      <td>0.338396</td>\n",
       "    </tr>\n",
       "    <tr>\n",
       "      <th>1</th>\n",
       "      <td>0.693215</td>\n",
       "      <td>0.0</td>\n",
       "      <td>0.210526</td>\n",
       "      <td>0.467612</td>\n",
       "    </tr>\n",
       "    <tr>\n",
       "      <th>2</th>\n",
       "      <td>0.185841</td>\n",
       "      <td>0.0</td>\n",
       "      <td>0.157895</td>\n",
       "      <td>0.228996</td>\n",
       "    </tr>\n",
       "    <tr>\n",
       "      <th>3</th>\n",
       "      <td>0.303835</td>\n",
       "      <td>0.0</td>\n",
       "      <td>0.052632</td>\n",
       "      <td>0.467612</td>\n",
       "    </tr>\n",
       "    <tr>\n",
       "      <th>4</th>\n",
       "      <td>0.044248</td>\n",
       "      <td>1.0</td>\n",
       "      <td>0.052632</td>\n",
       "      <td>0.031239</td>\n",
       "    </tr>\n",
       "    <tr>\n",
       "      <th>...</th>\n",
       "      <td>...</td>\n",
       "      <td>...</td>\n",
       "      <td>...</td>\n",
       "      <td>...</td>\n",
       "    </tr>\n",
       "    <tr>\n",
       "      <th>1335</th>\n",
       "      <td>0.917404</td>\n",
       "      <td>1.0</td>\n",
       "      <td>0.157895</td>\n",
       "      <td>0.614770</td>\n",
       "    </tr>\n",
       "    <tr>\n",
       "      <th>1336</th>\n",
       "      <td>0.339233</td>\n",
       "      <td>1.0</td>\n",
       "      <td>0.473684</td>\n",
       "      <td>0.807385</td>\n",
       "    </tr>\n",
       "    <tr>\n",
       "      <th>1337</th>\n",
       "      <td>0.929204</td>\n",
       "      <td>0.0</td>\n",
       "      <td>0.026316</td>\n",
       "      <td>0.424714</td>\n",
       "    </tr>\n",
       "    <tr>\n",
       "      <th>1338</th>\n",
       "      <td>0.020649</td>\n",
       "      <td>1.0</td>\n",
       "      <td>0.052632</td>\n",
       "      <td>0.056909</td>\n",
       "    </tr>\n",
       "    <tr>\n",
       "      <th>1339</th>\n",
       "      <td>0.811209</td>\n",
       "      <td>0.0</td>\n",
       "      <td>0.736842</td>\n",
       "      <td>0.433617</td>\n",
       "    </tr>\n",
       "  </tbody>\n",
       "</table>\n",
       "<p>1340 rows × 4 columns</p>\n",
       "</div>"
      ],
      "text/plain": [
       "      Age(yrs)  Gender  Health Insurance cover       BMI\n",
       "0     0.221239     1.0                0.157895  0.338396\n",
       "1     0.693215     0.0                0.210526  0.467612\n",
       "2     0.185841     0.0                0.157895  0.228996\n",
       "3     0.303835     0.0                0.052632  0.467612\n",
       "4     0.044248     1.0                0.052632  0.031239\n",
       "...        ...     ...                     ...       ...\n",
       "1335  0.917404     1.0                0.157895  0.614770\n",
       "1336  0.339233     1.0                0.473684  0.807385\n",
       "1337  0.929204     0.0                0.026316  0.424714\n",
       "1338  0.020649     1.0                0.052632  0.056909\n",
       "1339  0.811209     0.0                0.736842  0.433617\n",
       "\n",
       "[1340 rows x 4 columns]"
      ]
     },
     "execution_count": 73,
     "metadata": {},
     "output_type": "execute_result"
    }
   ],
   "source": [
    "norm_xtrain_df"
   ]
  },
  {
   "cell_type": "code",
   "execution_count": 74,
   "id": "3ed1dc15",
   "metadata": {},
   "outputs": [
    {
     "data": {
      "text/html": [
       "<div>\n",
       "<style scoped>\n",
       "    .dataframe tbody tr th:only-of-type {\n",
       "        vertical-align: middle;\n",
       "    }\n",
       "\n",
       "    .dataframe tbody tr th {\n",
       "        vertical-align: top;\n",
       "    }\n",
       "\n",
       "    .dataframe thead th {\n",
       "        text-align: right;\n",
       "    }\n",
       "</style>\n",
       "<table border=\"1\" class=\"dataframe\">\n",
       "  <thead>\n",
       "    <tr style=\"text-align: right;\">\n",
       "      <th></th>\n",
       "      <th>Age(yrs)</th>\n",
       "      <th>Gender</th>\n",
       "      <th>Health Insurance cover</th>\n",
       "      <th>BMI</th>\n",
       "    </tr>\n",
       "  </thead>\n",
       "  <tbody>\n",
       "    <tr>\n",
       "      <th>0</th>\n",
       "      <td>0.893805</td>\n",
       "      <td>1.0</td>\n",
       "      <td>0.473684</td>\n",
       "      <td>0.614770</td>\n",
       "    </tr>\n",
       "    <tr>\n",
       "      <th>1</th>\n",
       "      <td>0.303835</td>\n",
       "      <td>1.0</td>\n",
       "      <td>0.026316</td>\n",
       "      <td>0.382308</td>\n",
       "    </tr>\n",
       "    <tr>\n",
       "      <th>2</th>\n",
       "      <td>0.103245</td>\n",
       "      <td>0.0</td>\n",
       "      <td>0.157895</td>\n",
       "      <td>0.012981</td>\n",
       "    </tr>\n",
       "    <tr>\n",
       "      <th>3</th>\n",
       "      <td>0.327434</td>\n",
       "      <td>1.0</td>\n",
       "      <td>0.052632</td>\n",
       "      <td>0.807385</td>\n",
       "    </tr>\n",
       "    <tr>\n",
       "      <th>4</th>\n",
       "      <td>0.528024</td>\n",
       "      <td>0.0</td>\n",
       "      <td>0.105263</td>\n",
       "      <td>0.557739</td>\n",
       "    </tr>\n",
       "    <tr>\n",
       "      <th>...</th>\n",
       "      <td>...</td>\n",
       "      <td>...</td>\n",
       "      <td>...</td>\n",
       "      <td>...</td>\n",
       "    </tr>\n",
       "    <tr>\n",
       "      <th>331</th>\n",
       "      <td>0.008850</td>\n",
       "      <td>1.0</td>\n",
       "      <td>0.026316</td>\n",
       "      <td>0.524405</td>\n",
       "    </tr>\n",
       "    <tr>\n",
       "      <th>332</th>\n",
       "      <td>0.492625</td>\n",
       "      <td>1.0</td>\n",
       "      <td>0.736842</td>\n",
       "      <td>0.672555</td>\n",
       "    </tr>\n",
       "    <tr>\n",
       "      <th>333</th>\n",
       "      <td>0.374631</td>\n",
       "      <td>0.0</td>\n",
       "      <td>0.157895</td>\n",
       "      <td>0.569597</td>\n",
       "    </tr>\n",
       "    <tr>\n",
       "      <th>334</th>\n",
       "      <td>0.174041</td>\n",
       "      <td>1.0</td>\n",
       "      <td>0.105263</td>\n",
       "      <td>0.309187</td>\n",
       "    </tr>\n",
       "    <tr>\n",
       "      <th>335</th>\n",
       "      <td>0.799410</td>\n",
       "      <td>1.0</td>\n",
       "      <td>0.052632</td>\n",
       "      <td>0.672555</td>\n",
       "    </tr>\n",
       "  </tbody>\n",
       "</table>\n",
       "<p>336 rows × 4 columns</p>\n",
       "</div>"
      ],
      "text/plain": [
       "     Age(yrs)  Gender  Health Insurance cover       BMI\n",
       "0    0.893805     1.0                0.473684  0.614770\n",
       "1    0.303835     1.0                0.026316  0.382308\n",
       "2    0.103245     0.0                0.157895  0.012981\n",
       "3    0.327434     1.0                0.052632  0.807385\n",
       "4    0.528024     0.0                0.105263  0.557739\n",
       "..        ...     ...                     ...       ...\n",
       "331  0.008850     1.0                0.026316  0.524405\n",
       "332  0.492625     1.0                0.736842  0.672555\n",
       "333  0.374631     0.0                0.157895  0.569597\n",
       "334  0.174041     1.0                0.105263  0.309187\n",
       "335  0.799410     1.0                0.052632  0.672555\n",
       "\n",
       "[336 rows x 4 columns]"
      ]
     },
     "execution_count": 74,
     "metadata": {},
     "output_type": "execute_result"
    }
   ],
   "source": [
    "norm_array_test = norm.transform(x_test)\n",
    "norm_xtest_df = pd.DataFrame(norm_array_test, columns = x.columns)\n",
    "norm_xtest_df"
   ]
  },
  {
   "cell_type": "markdown",
   "id": "3c5d6975",
   "metadata": {},
   "source": [
    "# Model Training :"
   ]
  },
  {
   "cell_type": "code",
   "execution_count": 75,
   "id": "ad40c775",
   "metadata": {},
   "outputs": [
    {
     "data": {
      "text/html": [
       "<style>#sk-container-id-2 {color: black;background-color: white;}#sk-container-id-2 pre{padding: 0;}#sk-container-id-2 div.sk-toggleable {background-color: white;}#sk-container-id-2 label.sk-toggleable__label {cursor: pointer;display: block;width: 100%;margin-bottom: 0;padding: 0.3em;box-sizing: border-box;text-align: center;}#sk-container-id-2 label.sk-toggleable__label-arrow:before {content: \"▸\";float: left;margin-right: 0.25em;color: #696969;}#sk-container-id-2 label.sk-toggleable__label-arrow:hover:before {color: black;}#sk-container-id-2 div.sk-estimator:hover label.sk-toggleable__label-arrow:before {color: black;}#sk-container-id-2 div.sk-toggleable__content {max-height: 0;max-width: 0;overflow: hidden;text-align: left;background-color: #f0f8ff;}#sk-container-id-2 div.sk-toggleable__content pre {margin: 0.2em;color: black;border-radius: 0.25em;background-color: #f0f8ff;}#sk-container-id-2 input.sk-toggleable__control:checked~div.sk-toggleable__content {max-height: 200px;max-width: 100%;overflow: auto;}#sk-container-id-2 input.sk-toggleable__control:checked~label.sk-toggleable__label-arrow:before {content: \"▾\";}#sk-container-id-2 div.sk-estimator input.sk-toggleable__control:checked~label.sk-toggleable__label {background-color: #d4ebff;}#sk-container-id-2 div.sk-label input.sk-toggleable__control:checked~label.sk-toggleable__label {background-color: #d4ebff;}#sk-container-id-2 input.sk-hidden--visually {border: 0;clip: rect(1px 1px 1px 1px);clip: rect(1px, 1px, 1px, 1px);height: 1px;margin: -1px;overflow: hidden;padding: 0;position: absolute;width: 1px;}#sk-container-id-2 div.sk-estimator {font-family: monospace;background-color: #f0f8ff;border: 1px dotted black;border-radius: 0.25em;box-sizing: border-box;margin-bottom: 0.5em;}#sk-container-id-2 div.sk-estimator:hover {background-color: #d4ebff;}#sk-container-id-2 div.sk-parallel-item::after {content: \"\";width: 100%;border-bottom: 1px solid gray;flex-grow: 1;}#sk-container-id-2 div.sk-label:hover label.sk-toggleable__label {background-color: #d4ebff;}#sk-container-id-2 div.sk-serial::before {content: \"\";position: absolute;border-left: 1px solid gray;box-sizing: border-box;top: 0;bottom: 0;left: 50%;z-index: 0;}#sk-container-id-2 div.sk-serial {display: flex;flex-direction: column;align-items: center;background-color: white;padding-right: 0.2em;padding-left: 0.2em;position: relative;}#sk-container-id-2 div.sk-item {position: relative;z-index: 1;}#sk-container-id-2 div.sk-parallel {display: flex;align-items: stretch;justify-content: center;background-color: white;position: relative;}#sk-container-id-2 div.sk-item::before, #sk-container-id-2 div.sk-parallel-item::before {content: \"\";position: absolute;border-left: 1px solid gray;box-sizing: border-box;top: 0;bottom: 0;left: 50%;z-index: -1;}#sk-container-id-2 div.sk-parallel-item {display: flex;flex-direction: column;z-index: 1;position: relative;background-color: white;}#sk-container-id-2 div.sk-parallel-item:first-child::after {align-self: flex-end;width: 50%;}#sk-container-id-2 div.sk-parallel-item:last-child::after {align-self: flex-start;width: 50%;}#sk-container-id-2 div.sk-parallel-item:only-child::after {width: 0;}#sk-container-id-2 div.sk-dashed-wrapped {border: 1px dashed gray;margin: 0 0.4em 0.5em 0.4em;box-sizing: border-box;padding-bottom: 0.4em;background-color: white;}#sk-container-id-2 div.sk-label label {font-family: monospace;font-weight: bold;display: inline-block;line-height: 1.2em;}#sk-container-id-2 div.sk-label-container {text-align: center;}#sk-container-id-2 div.sk-container {/* jupyter's `normalize.less` sets `[hidden] { display: none; }` but bootstrap.min.css set `[hidden] { display: none !important; }` so we also need the `!important` here to be able to override the default hidden behavior on the sphinx rendered scikit-learn.org. See: https://github.com/scikit-learn/scikit-learn/issues/21755 */display: inline-block !important;position: relative;}#sk-container-id-2 div.sk-text-repr-fallback {display: none;}</style><div id=\"sk-container-id-2\" class=\"sk-top-container\"><div class=\"sk-text-repr-fallback\"><pre>KNeighborsRegressor()</pre><b>In a Jupyter environment, please rerun this cell to show the HTML representation or trust the notebook. <br />On GitHub, the HTML representation is unable to render, please try loading this page with nbviewer.org.</b></div><div class=\"sk-container\" hidden><div class=\"sk-item\"><div class=\"sk-estimator sk-toggleable\"><input class=\"sk-toggleable__control sk-hidden--visually\" id=\"sk-estimator-id-2\" type=\"checkbox\" checked><label for=\"sk-estimator-id-2\" class=\"sk-toggleable__label sk-toggleable__label-arrow\">KNeighborsRegressor</label><div class=\"sk-toggleable__content\"><pre>KNeighborsRegressor()</pre></div></div></div></div></div>"
      ],
      "text/plain": [
       "KNeighborsRegressor()"
      ]
     },
     "execution_count": 75,
     "metadata": {},
     "output_type": "execute_result"
    }
   ],
   "source": [
    "knn = KNeighborsRegressor()\n",
    "knn.fit(norm_xtrain_df, y_train)"
   ]
  },
  {
   "cell_type": "markdown",
   "id": "fd084c06",
   "metadata": {},
   "source": [
    "# Evaluation :"
   ]
  },
  {
   "cell_type": "markdown",
   "id": "5ab3b0a8",
   "metadata": {},
   "source": [
    "# Training Accuracy :"
   ]
  },
  {
   "cell_type": "code",
   "execution_count": 76,
   "id": "55508674",
   "metadata": {},
   "outputs": [
    {
     "name": "stdout",
     "output_type": "stream",
     "text": [
      "MSE value 9269361.828358209\n",
      "RMSE value 3044.5626661900405\n",
      "MAE value 1391.376119402985\n",
      "R_squared value 0.9854572749582658\n"
     ]
    }
   ],
   "source": [
    "y_pred = knn.predict(norm_xtrain_df)\n",
    "\n",
    "MSE = mean_squared_error(y_train,y_pred)\n",
    "print(\"MSE value\", MSE)\n",
    "\n",
    "RMSE = np.sqrt(MSE)\n",
    "print(\"RMSE value\", RMSE)\n",
    "\n",
    "MAE = mean_absolute_error(y_train,y_pred)\n",
    "print(\"MAE value\", MAE)\n",
    "\n",
    "r2_value = r2_score(y_train,y_pred)\n",
    "print(\"R_squared value\", r2_value)"
   ]
  },
  {
   "cell_type": "markdown",
   "id": "649fbe13",
   "metadata": {},
   "source": [
    "# Testing Accuracy :"
   ]
  },
  {
   "cell_type": "code",
   "execution_count": 77,
   "id": "9a36ffdb",
   "metadata": {},
   "outputs": [
    {
     "name": "stdout",
     "output_type": "stream",
     "text": [
      "MSE value 9645116.199404761\n",
      "RMSE value 3105.6587384007216\n",
      "MAE value 1605.0744047619048\n",
      "R_squared value 0.9851878453109106\n"
     ]
    }
   ],
   "source": [
    "y_pred = knn.predict(norm_xtest_df)\n",
    "\n",
    "MSE = mean_squared_error(y_test,y_pred)\n",
    "print(\"MSE value\", MSE)\n",
    "\n",
    "RMSE = np.sqrt(MSE)\n",
    "print(\"RMSE value\", RMSE)\n",
    "\n",
    "MAE = mean_absolute_error(y_test,y_pred)\n",
    "print(\"MAE value\", MAE)\n",
    "\n",
    "r2_value = r2_score(y_test,y_pred)\n",
    "print(\"R_squared value\", r2_value)"
   ]
  },
  {
   "cell_type": "code",
   "execution_count": null,
   "id": "db77d736",
   "metadata": {},
   "outputs": [],
   "source": []
  },
  {
   "cell_type": "code",
   "execution_count": null,
   "id": "c0644f4a-9567-45a2-92a5-fa0248a81702",
   "metadata": {},
   "outputs": [],
   "source": []
  },
  {
   "cell_type": "code",
   "execution_count": null,
   "id": "4304b68e-4590-4870-940d-9013c25fa040",
   "metadata": {},
   "outputs": [],
   "source": []
  },
  {
   "cell_type": "code",
   "execution_count": null,
   "id": "0946d582-d0c9-43d1-80d4-ad5f9591e1cd",
   "metadata": {},
   "outputs": [],
   "source": []
  },
  {
   "cell_type": "code",
   "execution_count": null,
   "id": "33eaa685",
   "metadata": {},
   "outputs": [],
   "source": []
  }
 ],
 "metadata": {
  "kernelspec": {
   "display_name": "Python 3 (ipykernel)",
   "language": "python",
   "name": "python3"
  },
  "language_info": {
   "codemirror_mode": {
    "name": "ipython",
    "version": 3
   },
   "file_extension": ".py",
   "mimetype": "text/x-python",
   "name": "python",
   "nbconvert_exporter": "python",
   "pygments_lexer": "ipython3",
   "version": "3.11.7"
  }
 },
 "nbformat": 4,
 "nbformat_minor": 5
}
